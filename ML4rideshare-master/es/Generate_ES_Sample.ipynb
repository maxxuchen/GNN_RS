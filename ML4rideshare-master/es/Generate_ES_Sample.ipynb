{
 "cells": [
  {
   "cell_type": "markdown",
   "id": "03e2de42",
   "metadata": {},
   "source": [
    "# Create sample piece"
   ]
  },
  {
   "cell_type": "markdown",
   "id": "9e5420b3",
   "metadata": {},
   "source": [
    "Cut continuous order data into smaller pieces, like 2 hours, 1 hours, 15 minutes."
   ]
  },
  {
   "cell_type": "code",
   "execution_count": 7,
   "id": "3cf1b082",
   "metadata": {},
   "outputs": [],
   "source": [
    "import os\n",
    "import datetime\n",
    "import numpy as np\n",
    "import pandas as pd"
   ]
  },
  {
   "cell_type": "code",
   "execution_count": 8,
   "id": "de71a389",
   "metadata": {},
   "outputs": [],
   "source": [
    "DIR = os.path.dirname(os.getcwd())\n",
    "train_data_path = os.path.join(DIR, 'data/train.csv')\n",
    "valid_data_path = os.path.join(DIR, 'data/test.csv')\n",
    "train_out_dir = os.path.join(DIR, 'es/samples/train')\n",
    "valid_out_dir = os.path.join(DIR, 'es/samples/valid')"
   ]
  },
  {
   "cell_type": "code",
   "execution_count": 9,
   "id": "bba1d5d4",
   "metadata": {},
   "outputs": [],
   "source": [
    "def cut_data(data_path, out_dir):\n",
    "    \"\"\"\n",
    "    input: raw new york taxi data set\n",
    "    output: data slices for each day\n",
    "    \"\"\"\n",
    "\n",
    "    with open(data_path) as f:\n",
    "        original_data = pd.read_csv(f)\n",
    "        data = original_data.copy()\n",
    "\n",
    "    # preprocess\n",
    "    data['pickup_datetime'] = pd.to_datetime(data['pickup_datetime'])\n",
    "    data['pickup_hour'] = data['pickup_datetime'].dt.strftime('%Y-%m-%d-%H')\n",
    "\n",
    "    # get pickup date list\n",
    "    tmp = data.drop_duplicates('pickup_hour', keep='last')\n",
    "    date_list = tmp['pickup_hour'].tolist()\n",
    "\n",
    "    # get data slice\n",
    "    index = data.index\n",
    "    for date in date_list:\n",
    "        condition = data['pickup_hour'] == date\n",
    "        data_indices = original_data[condition]\n",
    "        output_path = os.path.join(out_dir, 'sample' + str(date_list.index(date)) + '.csv')\n",
    "        data_indices.to_csv(output_path, index=False)"
   ]
  },
  {
   "cell_type": "code",
   "execution_count": 10,
   "id": "8ce5434f",
   "metadata": {},
   "outputs": [],
   "source": [
    "cut_data(train_data_path, train_out_dir)\n",
    "cut_data(valid_data_path, valid_out_dir)"
   ]
  }
 ],
 "metadata": {
  "kernelspec": {
   "display_name": "ml4sh",
   "language": "python",
   "name": "ml4sh"
  },
  "language_info": {
   "codemirror_mode": {
    "name": "ipython",
    "version": 3
   },
   "file_extension": ".py",
   "mimetype": "text/x-python",
   "name": "python",
   "nbconvert_exporter": "python",
   "pygments_lexer": "ipython3",
   "version": "3.8.8"
  }
 },
 "nbformat": 4,
 "nbformat_minor": 5
}
